{
 "cells": [
  {
   "cell_type": "code",
   "execution_count": 12,
   "metadata": {},
   "outputs": [],
   "source": [
    "from tensorflow.keras.preprocessing.image import ImageDataGenerator\n",
    "from tensorflow.keras.applications import MobileNetV2\n",
    "from tensorflow.keras.layers import AveragePooling2D\n",
    "from tensorflow.keras.layers import Dropout\n",
    "from tensorflow.keras.layers import Flatten\n",
    "from tensorflow.keras.layers import Dense\n",
    "from tensorflow.keras.layers import Input\n",
    "from tensorflow.keras.models import Model\n",
    "from tensorflow.keras.optimizers import Adam\n",
    "from tensorflow.keras.applications.mobilenet_v2 import preprocess_input\n",
    "from tensorflow.keras.preprocessing.image import img_to_array\n",
    "from tensorflow.keras.preprocessing.image import load_img\n",
    "from tensorflow.keras.utils import to_categorical\n",
    "from sklearn.preprocessing import LabelBinarizer\n",
    "from sklearn.model_selection import train_test_split\n",
    "from sklearn.metrics import classification_report\n",
    "from imutils import paths\n",
    "import matplotlib.pyplot as plt\n",
    "import numpy as np\n",
    "import os"
   ]
  },
  {
   "cell_type": "code",
   "execution_count": 13,
   "metadata": {},
   "outputs": [],
   "source": [
    "DIRECTORY=r\"C:\\Users\\harsh\\Downloads\\Face-Mask-Detection-master\\dataset\"\n",
    "CATEGORIES=['with_mask','without_mask']"
   ]
  },
  {
   "cell_type": "code",
   "execution_count": 14,
   "metadata": {},
   "outputs": [
    {
     "name": "stderr",
     "output_type": "stream",
     "text": [
      "C:\\Users\\harsh\\anaconda3\\lib\\site-packages\\PIL\\Image.py:951: UserWarning: Palette images with Transparency expressed in bytes should be converted to RGBA images\n",
      "  warnings.warn(\n"
     ]
    }
   ],
   "source": [
    "data=[]\n",
    "labels=[]\n",
    "\n",
    "for categories in CATEGORIES:\n",
    "    path=os.path.join(DIRECTORY, categories)\n",
    "    for img in os.listdir(path):\n",
    "        img_path=os.path.join(path,img)\n",
    "        image=load_img(img_path,target_size=(224,224))\n",
    "        image=img_to_array(image)\n",
    "        image=preprocess_input(image)\n",
    "        \n",
    "        data.append(image)\n",
    "        labels.append(categories)"
   ]
  },
  {
   "cell_type": "code",
   "execution_count": 15,
   "metadata": {},
   "outputs": [],
   "source": [
    "#one hot encoding\n",
    "lb = LabelBinarizer()\n",
    "labels=lb.fit_transform(labels)\n",
    "labels = to_categorical(labels)"
   ]
  },
  {
   "cell_type": "code",
   "execution_count": 17,
   "metadata": {},
   "outputs": [],
   "source": [
    "#stacking the data in  NUMPY ARRAYS \n",
    "data=np.array(data, dtype=float)\n",
    "labels=np.array(labels)"
   ]
  },
  {
   "cell_type": "code",
   "execution_count": 19,
   "metadata": {},
   "outputs": [],
   "source": [
    "# spliiting in train and test data \n",
    "train_X,test_X,train_Y,test_Y=train_test_split(data,labels,test_size=.2 , stratify =labels , random_state=112)"
   ]
  },
  {
   "cell_type": "code",
   "execution_count": 20,
   "metadata": {},
   "outputs": [],
   "source": [
    "aug = ImageDataGenerator(\n",
    "    rotation_range=21,\n",
    "    zoom_range=0.15,\n",
    "    width_shift_range=0.2,\n",
    "    height_shift_range=0.2,\n",
    "    shear_range=0.15,\n",
    "    horizontal_flip=True,\n",
    "    fill_mode='nearest')"
   ]
  },
  {
   "cell_type": "code",
   "execution_count": 26,
   "metadata": {},
   "outputs": [
    {
     "name": "stdout",
     "output_type": "stream",
     "text": [
      "WARNING:tensorflow:`input_shape` is undefined or non-square, or `rows` is not in [96, 128, 160, 192, 224]. Weights for input shape (224, 224) will be loaded as the default.\n",
      "compiling head....\n"
     ]
    }
   ],
   "source": [
    "#mobilenet base layer\n",
    "baseModel=MobileNetV2(weights=\"imagenet\",include_top=False,input_tensor=Input(shape=(224,224,3)))\n",
    "\n",
    "#Now creating the head of the model and conneting the base model with it \n",
    "headModel=baseModel.output\n",
    "headModel=AveragePooling2D(pool_size=(7,7))(headModel)\n",
    "headModel=Flatten(name=\"flatten\")(headModel)\n",
    "headModel=Dense(128,activation='relu')(headModel)\n",
    "headModel=Dropout(0.5)(headModel) #to avoid overfitting of the model\n",
    "headModel=Dense(2,activation=\"softmax\")(headModel)\n",
    "\n",
    "#putting the head model on top of base model\n",
    "model=Model(inputs=baseModel.input,outputs=headModel)\n",
    "\n",
    "#loop over all layer of base model and freeze them \n",
    "for layer in baseModel.layers:\n",
    "    layer.trainable =False\n",
    "\n",
    "#compiling the model \n",
    "print(\"compiling head....\")\n"
   ]
  },
  {
   "cell_type": "code",
   "execution_count": 28,
   "metadata": {},
   "outputs": [],
   "source": [
    "INIT_LR = 1e-4\n",
    "EPOCHS = 20\n",
    "BS = 32\n",
    "opt = Adam(lr=INIT_LR, decay=INIT_LR / EPOCHS)\n",
    "model.compile(loss=\"binary_crossentropy\", optimizer=opt,metrics=[\"accuracy\"])"
   ]
  },
  {
   "cell_type": "code",
   "execution_count": 29,
   "metadata": {},
   "outputs": [
    {
     "name": "stdout",
     "output_type": "stream",
     "text": [
      "training head\n",
      "Epoch 1/20\n",
      "95/95 [==============================] - 84s 834ms/step - loss: 0.5948 - accuracy: 0.7208 - val_loss: 0.1743 - val_accuracy: 0.9648\n",
      "Epoch 2/20\n",
      "95/95 [==============================] - 76s 796ms/step - loss: 0.1819 - accuracy: 0.9576 - val_loss: 0.0995 - val_accuracy: 0.9739\n",
      "Epoch 3/20\n",
      "95/95 [==============================] - 83s 868ms/step - loss: 0.1002 - accuracy: 0.9784 - val_loss: 0.0770 - val_accuracy: 0.9765\n",
      "Epoch 4/20\n",
      "95/95 [==============================] - 82s 858ms/step - loss: 0.0834 - accuracy: 0.9792 - val_loss: 0.0651 - val_accuracy: 0.9791\n",
      "Epoch 5/20\n",
      "95/95 [==============================] - 81s 854ms/step - loss: 0.0647 - accuracy: 0.9807 - val_loss: 0.0557 - val_accuracy: 0.9804\n",
      "Epoch 6/20\n",
      "95/95 [==============================] - 88s 928ms/step - loss: 0.0680 - accuracy: 0.9807 - val_loss: 0.0583 - val_accuracy: 0.9791\n",
      "Epoch 7/20\n",
      "95/95 [==============================] - 88s 931ms/step - loss: 0.0481 - accuracy: 0.9857 - val_loss: 0.0512 - val_accuracy: 0.9791\n",
      "Epoch 8/20\n",
      "95/95 [==============================] - 90s 945ms/step - loss: 0.0553 - accuracy: 0.9852 - val_loss: 0.0494 - val_accuracy: 0.9791\n",
      "Epoch 9/20\n",
      "95/95 [==============================] - 92s 966ms/step - loss: 0.0517 - accuracy: 0.9855 - val_loss: 0.0516 - val_accuracy: 0.9804\n",
      "Epoch 10/20\n",
      "95/95 [==============================] - 93s 976ms/step - loss: 0.0398 - accuracy: 0.9870 - val_loss: 0.0489 - val_accuracy: 0.9791\n",
      "Epoch 11/20\n",
      "95/95 [==============================] - 93s 975ms/step - loss: 0.0406 - accuracy: 0.9886 - val_loss: 0.0474 - val_accuracy: 0.9817\n",
      "Epoch 12/20\n",
      "95/95 [==============================] - 91s 951ms/step - loss: 0.0327 - accuracy: 0.9911 - val_loss: 0.0494 - val_accuracy: 0.9791\n",
      "Epoch 13/20\n",
      "95/95 [==============================] - 91s 955ms/step - loss: 0.0310 - accuracy: 0.9949 - val_loss: 0.0455 - val_accuracy: 0.9844\n",
      "Epoch 14/20\n",
      "95/95 [==============================] - 90s 944ms/step - loss: 0.0344 - accuracy: 0.9907 - val_loss: 0.0433 - val_accuracy: 0.9804\n",
      "Epoch 15/20\n",
      "95/95 [==============================] - 90s 948ms/step - loss: 0.0297 - accuracy: 0.9903 - val_loss: 0.0419 - val_accuracy: 0.9831\n",
      "Epoch 16/20\n",
      "95/95 [==============================] - 83s 867ms/step - loss: 0.0345 - accuracy: 0.9866 - val_loss: 0.0523 - val_accuracy: 0.9817\n",
      "Epoch 17/20\n",
      "95/95 [==============================] - 85s 898ms/step - loss: 0.0265 - accuracy: 0.9918 - val_loss: 0.0433 - val_accuracy: 0.9831\n",
      "Epoch 18/20\n",
      "95/95 [==============================] - 89s 937ms/step - loss: 0.0224 - accuracy: 0.9953 - val_loss: 0.0454 - val_accuracy: 0.9804\n",
      "Epoch 19/20\n",
      "95/95 [==============================] - 88s 918ms/step - loss: 0.0330 - accuracy: 0.9896 - val_loss: 0.0464 - val_accuracy: 0.9804\n",
      "Epoch 20/20\n",
      "95/95 [==============================] - 88s 923ms/step - loss: 0.0391 - accuracy: 0.9879 - val_loss: 0.0404 - val_accuracy: 0.9817\n"
     ]
    }
   ],
   "source": [
    "print(\"training head\")\n",
    "H = model.fit(\n",
    "    aug.flow(train_X,train_Y,batch_size=32),\n",
    "    steps_per_epoch=len(train_X) // BS,\n",
    "    validation_data=(test_X,test_Y),\n",
    "    validation_steps=len(test_X) // BS,\n",
    "    epochs=EPOCHS\n",
    "    )"
   ]
  },
  {
   "cell_type": "code",
   "execution_count": 30,
   "metadata": {},
   "outputs": [],
   "source": [
    "predIdxs=model.predict(test_X,batch_size=BS)\n",
    "predIdxs=np.argmax(predIdxs,axis=1)\n"
   ]
  },
  {
   "cell_type": "code",
   "execution_count": 33,
   "metadata": {},
   "outputs": [
    {
     "name": "stdout",
     "output_type": "stream",
     "text": [
      "              precision    recall  f1-score   support\n",
      "\n",
      "   with_mask       0.97      0.99      0.98       383\n",
      "without_mask       0.99      0.97      0.98       384\n",
      "\n",
      "    accuracy                           0.98       767\n",
      "   macro avg       0.98      0.98      0.98       767\n",
      "weighted avg       0.98      0.98      0.98       767\n",
      "\n"
     ]
    }
   ],
   "source": [
    "print(classification_report(test_Y.argmax(axis=1),predIdxs,target_names=lb.classes_))"
   ]
  },
  {
   "cell_type": "code",
   "execution_count": 34,
   "metadata": {},
   "outputs": [],
   "source": [
    "model.save(\"mask_detector.model\",save_format=\"h5\")"
   ]
  },
  {
   "cell_type": "code",
   "execution_count": 39,
   "metadata": {},
   "outputs": [
    {
     "data": {
      "image/png": "[encoded data removed]",
      "text/plain": [
       "<Figure size 720x720 with 1 Axes>"
      ]
     },
     "metadata": {},
     "output_type": "display_data"
    }
   ],
   "source": [
    "# plot the training loss and accuracy\n",
    "N = EPOCHS\n",
    "plt.style.use(\"ggplot\")\n",
    "plt.figure(figsize=(10,10))\n",
    "plt.plot(np.arange(0, N), H.history[\"loss\"], label=\"train_loss\")\n",
    "plt.plot(np.arange(0, N), H.history[\"val_loss\"], label=\"val_loss\")\n",
    "plt.plot(np.arange(0, N), H.history[\"accuracy\"], label=\"train_acc\")\n",
    "plt.plot(np.arange(0, N), H.history[\"val_accuracy\"], label=\"val_acc\")\n",
    "plt.title(\"Training Loss and Accuracy\")\n",
    "plt.xlabel(\"Epoch #\")\n",
    "plt.ylabel(\"Loss/Accuracy\")\n",
    "plt.legend(loc=\"lower left\")\n",
    "plt.savefig(\"plot.png\")"
   ]
  },
  {
   "cell_type": "code",
   "execution_count": null,
   "metadata": {},
   "outputs": [],
   "source": []
  }
 ],
 "metadata": {
  "kernelspec": {
   "display_name": "Python 3",
   "language": "python",
   "name": "python3"
  },
  "language_info": {
   "codemirror_mode": {
    "name": "ipython",
    "version": 3
   },
   "file_extension": ".py",
   "mimetype": "text/x-python",
   "name": "python",
   "nbconvert_exporter": "python",
   "pygments_lexer": "ipython3",
   "version": "3.8.5"
  }
 },
 "nbformat": 4,
 "nbformat_minor": 4
}
